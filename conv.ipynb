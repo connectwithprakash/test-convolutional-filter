{
  "nbformat": 4,
  "nbformat_minor": 0,
  "metadata": {
    "colab": {
      "name": "conv.ipynb",
      "provenance": [],
      "collapsed_sections": []
    },
    "kernelspec": {
      "name": "python3",
      "display_name": "Python 3"
    }
  },
  "cells": [
    {
      "cell_type": "code",
      "metadata": {
        "id": "uRFnF787WQ8v",
        "colab_type": "code",
        "outputId": "6ac4e116-e255-4db7-d190-b812c1cbe095",
        "colab": {
          "base_uri": "https://localhost:8080/",
          "height": 34
        }
      },
      "source": [
        "from google.colab import drive\n",
        "drive.mount('/content/drive')"
      ],
      "execution_count": 0,
      "outputs": [
        {
          "output_type": "stream",
          "text": [
            "Drive already mounted at /content/drive; to attempt to forcibly remount, call drive.mount(\"/content/drive\", force_remount=True).\n"
          ],
          "name": "stdout"
        }
      ]
    },
    {
      "cell_type": "code",
      "metadata": {
        "id": "PX62W9UyWkWG",
        "colab_type": "code",
        "colab": {}
      },
      "source": [
        "import numpy as np\n",
        "import matplotlib.pyplot as plt"
      ],
      "execution_count": 0,
      "outputs": []
    },
    {
      "cell_type": "code",
      "metadata": {
        "id": "5h9kZ8DiWR2t",
        "colab_type": "code",
        "colab": {}
      },
      "source": [
        "def get_filter_output(input_img_path, filter):\n",
        "  img = plt.imread(input_img_path)\n",
        "  filter_size = filter.shape[0]\n",
        "  pad_width = (filter_size-1)//2\n",
        "  if len(img.shape)==3:\n",
        "    filter_3D = np.stack((filter, filter, filter), axis=2)\n",
        "    temp = np.pad(img, ((pad_width, pad_width), (pad_width, pad_width), (0, 0)), mode='constant', constant_values=0)\n",
        "    temp = np.array([[np.sum(np.multiply(temp[i:i+filter_size, j:j+filter_size, :], filter_3D)) for j in range(temp.shape[1]-filter_size+1)] for i in range(temp.shape[0]-filter_size+1)])\n",
        "  else:\n",
        "    temp = np.pad(img, ((pad_width, pad_width), (pad_width, pad_width)), mode='constant', constant_values=0)\n",
        "    temp = np.array([[np.sum(np.multiply(temp[i:i+filter_size, j:j+filter_size], filter)) for j in range(temp.shape[1]-filter_size+1)] for i in range(temp.shape[0]-filter_size+1)])\n",
        "    \n",
        "  temp[temp>255] = 255\n",
        "  temp[temp<0] = 0\n",
        "  plt.imshow(temp, cmap='gray')\n",
        "  return temp\n",
        "  "
      ],
      "execution_count": 0,
      "outputs": []
    },
    {
      "cell_type": "code",
      "metadata": {
        "id": "bslXaKQv-1_A",
        "colab_type": "code",
        "colab": {}
      },
      "source": [
        "filter = np.array([[-1,0,1],[-1,0,1],[-1,0,1]])\n",
        "#filter = np.array([[1,2,3],[4,5,6],[7,8,9],[9,4,7]])"
      ],
      "execution_count": 0,
      "outputs": []
    },
    {
      "cell_type": "code",
      "metadata": {
        "id": "xkAQeBbGMAQA",
        "colab_type": "code",
        "colab": {}
      },
      "source": [
        "file_path = \"drive/My Drive/Colab Notebooks/vh.jpg\""
      ],
      "execution_count": 0,
      "outputs": []
    },
    {
      "cell_type": "code",
      "metadata": {
        "id": "Y3gAhYZEKqcm",
        "colab_type": "code",
        "colab": {
          "base_uri": "https://localhost:8080/",
          "height": 286
        },
        "outputId": "663d4378-1dd5-43c5-9910-0e9326ae8ed3"
      },
      "source": [
        "plt.imshow(plt.imread(file_path))"
      ],
      "execution_count": 55,
      "outputs": [
        {
          "output_type": "execute_result",
          "data": {
            "text/plain": [
              "<matplotlib.image.AxesImage at 0x7f9a520bd940>"
            ]
          },
          "metadata": {
            "tags": []
          },
          "execution_count": 55
        },
        {
          "output_type": "display_data",
          "data": {
            "image/png": "[encoded data removed]",
            "text/plain": [
              "<Figure size 432x288 with 1 Axes>"
            ]
          },
          "metadata": {
            "tags": []
          }
        }
      ]
    },
    {
      "cell_type": "code",
      "metadata": {
        "id": "wNHTILjbXoPN",
        "colab_type": "code",
        "outputId": "78f40b86-995a-4786-c091-b92936169fda",
        "colab": {
          "base_uri": "https://localhost:8080/",
          "height": 269
        }
      },
      "source": [
        "horiz_out_pos_grad = get_filter_output(file_path, filter.T)"
      ],
      "execution_count": 56,
      "outputs": [
        {
          "output_type": "display_data",
          "data": {
            "image/png": "[encoded data removed]",
            "text/plain": [
              "<Figure size 432x288 with 1 Axes>"
            ]
          },
          "metadata": {
            "tags": []
          }
        }
      ]
    },
    {
      "cell_type": "code",
      "metadata": {
        "id": "gkpqUwVTKSJH",
        "colab_type": "code",
        "colab": {
          "base_uri": "https://localhost:8080/",
          "height": 269
        },
        "outputId": "cd9f80e9-e304-40b4-c9e3-db35e77c414a"
      },
      "source": [
        "horiz_out_neg_grad = get_filter_output(file_path, np.flip(filter.T))"
      ],
      "execution_count": 57,
      "outputs": [
        {
          "output_type": "display_data",
          "data": {
            "image/png": "[encoded data removed]",
            "text/plain": [
              "<Figure size 432x288 with 1 Axes>"
            ]
          },
          "metadata": {
            "tags": []
          }
        }
      ]
    },
    {
      "cell_type": "code",
      "metadata": {
        "id": "CIDAK6VYY-fw",
        "colab_type": "code",
        "outputId": "c562bac7-db0b-4970-bdcb-1815b324bb2e",
        "colab": {
          "base_uri": "https://localhost:8080/",
          "height": 269
        }
      },
      "source": [
        "vert_out_pos_grad = get_filter_output(file_path, filter)"
      ],
      "execution_count": 58,
      "outputs": [
        {
          "output_type": "display_data",
          "data": {
            "image/png": "[encoded data removed]",
            "text/plain": [
              "<Figure size 432x288 with 1 Axes>"
            ]
          },
          "metadata": {
            "tags": []
          }
        }
      ]
    },
    {
      "cell_type": "code",
      "metadata": {
        "id": "jjMXCGNBJXJn",
        "colab_type": "code",
        "colab": {
          "base_uri": "https://localhost:8080/",
          "height": 269
        },
        "outputId": "4117c93d-e042-44b3-8e31-dac8240aaa5b"
      },
      "source": [
        "vert_out_neg_grad = get_filter_output(file_path, np.flip(filter))"
      ],
      "execution_count": 59,
      "outputs": [
        {
          "output_type": "display_data",
          "data": {
            "image/png": "[encoded data removed]",
            "text/plain": [
              "<Figure size 432x288 with 1 Axes>"
            ]
          },
          "metadata": {
            "tags": []
          }
        }
      ]
    },
    {
      "cell_type": "code",
      "metadata": {
        "id": "NaqycFdzLAli",
        "colab_type": "code",
        "colab": {}
      },
      "source": [
        ""
      ],
      "execution_count": 0,
      "outputs": []
    }
  ]
}